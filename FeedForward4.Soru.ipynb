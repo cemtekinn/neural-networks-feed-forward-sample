{
 "cells": [
  {
   "attachments": {},
   "cell_type": "markdown",
   "metadata": {},
   "source": [
    "Pytorch kütüphanesi ile,kütüphanenin hazır aktivasyon fonksiyonlarını kullanmadan,\n",
    "\n",
    "Tanh Fonksiyonu [ f(x)= (exp(x)-exp(-x) ) / (exp(x)+exp(-x) ) ]\n",
    "\n",
    "Sigmoid Fonksiyonu [ f(x)= 1/( 1+exp(-x) ) ]\n",
    "\n",
    "formüllerini kullanarak kendi yapay sinir ağımızı oluşturalım."
   ]
  },
  {
   "attachments": {},
   "cell_type": "markdown",
   "metadata": {},
   "source": [
    "Yapılacaklar: \n",
    "* Forward propagation için ,input olarak x matrisi verilecek\n",
    "* Matris tensöre çevrilecek\n",
    "\n",
    "-Satırlar veriler(Sample)\n",
    "\n",
    "-Kolonlar öznitelikler(Feature)\n",
    "\n",
    "X=[\n",
    "    \n",
    "    1 2 3           \n",
    "    4 5 6\n",
    "          \n",
    "          ]\n",
    "\n",
    "* Hidden Layer=50 Nöron\n",
    "* Kullanılacak Tanh ve Sigmoid fonksiyonu üst kısımdaki hücrede verilmiştir."
   ]
  },
  {
   "attachments": {},
   "cell_type": "markdown",
   "metadata": {},
   "source": [
    "4.1-) \n",
    "\n",
    "Bu yapay sinir ağını çalıştırmadan önce pytorch için seed değerini 1 olarak ayarlıyoruz"
   ]
  },
  {
   "cell_type": "code",
   "execution_count": 1,
   "metadata": {},
   "outputs": [
    {
     "name": "stdout",
     "output_type": "stream",
     "text": [
      "tensor([[0.0498],\n",
      "        [0.0075]])\n"
     ]
    }
   ],
   "source": [
    "import torch\n",
    "\n",
    "# PyTorch'ta seed değeri 1 olarak ayarlandı\n",
    "torch.manual_seed(1)\n",
    "\n",
    "# Tanh ve sigmoid aktivasyon fonksiyonlarını kendimiz yazdık\n",
    "def tanh(x):\n",
    "    result=(torch.exp(x)-torch.exp(-x))/(torch.exp(x)+torch.exp(-x))\n",
    "    return result\n",
    "\n",
    "def sigmoid(x):\n",
    "    result=1/(1+torch.exp(-x)) \n",
    "    return result\n",
    "\n",
    "# Input X matrisi tensöre çevrildi\n",
    "X = torch.tensor([[1, 2, 3], [4, 5, 6]], dtype=torch.float)\n",
    "\n",
    "input_size=3\n",
    "hidden_size=50\n",
    "output_size=1\n",
    "\n",
    "# Gizli katman için ağırlıklar ve bias değerleri tanımlandı\n",
    "hidden_weights = torch.randn((input_size, hidden_size), dtype=torch.float)\n",
    "hidden_bias = torch.randn((output_size, hidden_size), dtype=torch.float)\n",
    "\n",
    "# Çıkış katmanı için ağırlıklar ve bias değerleri tanımlandı\n",
    "output_weights = torch.randn((hidden_size, output_size), dtype=torch.float)\n",
    "output_bias = torch.randn((1, 1), dtype=torch.float)\n",
    "\n",
    "# İleri besleme işlemi gerçekleştirildi\n",
    "hidden_layer = tanh(torch.mm(X, hidden_weights) + hidden_bias)\n",
    "output_layer = sigmoid(torch.mm(hidden_layer, output_weights) + output_bias)\n",
    "\n",
    "# Çıkış katmanındaki tek nöronun çıkışı yazdırıldı\n",
    "print(output_layer)\n",
    " "
   ]
  },
  {
   "attachments": {},
   "cell_type": "markdown",
   "metadata": {},
   "source": [
    "\n",
    "Çıktı:\n",
    "\n",
    "tensor([[0.0498],\n",
    "        [0.0075]])"
   ]
  },
  {
   "attachments": {},
   "cell_type": "markdown",
   "metadata": {},
   "source": [
    "4.2-)\n",
    "\n",
    "\n",
    "* Seed değerini öğrenci numaram olarak değiştirerek tekrar çalıştırıyorum\n",
    "\n",
    " -> torch.manual_seed(210401003)"
   ]
  },
  {
   "cell_type": "code",
   "execution_count": 20,
   "metadata": {},
   "outputs": [
    {
     "name": "stdout",
     "output_type": "stream",
     "text": [
      "tensor([[0.9450],\n",
      "        [0.8613]])\n"
     ]
    }
   ],
   "source": [
    "import torch\n",
    "\n",
    "# PyTorch'ta seed değeri ogrenci numaram olarak ayarlandı\n",
    "torch.manual_seed(210401003)\n",
    "\n",
    "# Tanh ve sigmoid aktivasyon fonksiyonlarını kendimiz yazdık\n",
    "def tanh(x):\n",
    "    result=(torch.exp(x)-torch.exp(-x))/(torch.exp(x)+torch.exp(-x))\n",
    "    return result\n",
    "\n",
    "def sigmoid(x):\n",
    "    result=1/(1+torch.exp(-x)) \n",
    "    return result\n",
    "\n",
    "# Input X matrisi tensöre çevrildi\n",
    "X = torch.tensor([[1, 2, 3], [4, 5, 6]], dtype=torch.float)\n",
    "\n",
    "input_size=3\n",
    "hidden_size=50\n",
    "output_size=1\n",
    "\n",
    "# Gizli katman için ağırlıklar ve bias değerleri tanımlandı\n",
    "hidden_weights = torch.randn((input_size, hidden_size), dtype=torch.float)\n",
    "hidden_bias = torch.randn((output_size, hidden_size), dtype=torch.float)\n",
    "\n",
    "# Çıkış katmanı için ağırlıklar ve bias değerleri tanımlandı\n",
    "output_weights = torch.randn((hidden_size, output_size), dtype=torch.float)\n",
    "output_bias = torch.randn((1, 1), dtype=torch.float)\n",
    "\n",
    "# İleri besleme işlemi gerçekleştirildi\n",
    "hidden_layer = tanh(torch.mm(X, hidden_weights) + hidden_bias)\n",
    "output_layer = sigmoid(torch.mm(hidden_layer, output_weights) + output_bias)\n",
    "\n",
    "# Çıkış katmanındaki tek nöronun çıkışı yazdırıldı\n",
    "print(output_layer)"
   ]
  },
  {
   "attachments": {},
   "cell_type": "markdown",
   "metadata": {},
   "source": [
    "Çıktı:\n",
    "\n",
    "tensor([[0.9450],\n",
    "        [0.8613]])\n"
   ]
  },
  {
   "attachments": {},
   "cell_type": "markdown",
   "metadata": {},
   "source": [
    "## İki farklı seed değerinin çalışma zamanı olarak karşılaştırılması"
   ]
  },
  {
   "cell_type": "code",
   "execution_count": 21,
   "metadata": {},
   "outputs": [
    {
     "name": "stdout",
     "output_type": "stream",
     "text": [
      "tensor([[0.0498],\n",
      "        [0.0075]])\n",
      "Çalışma Süresi: 0.004000663757324219\n"
     ]
    }
   ],
   "source": [
    "import torch\n",
    "import time\n",
    "\n",
    "start_time = time.time()\n",
    "\n",
    "# PyTorch'ta seed değeri 1 olarak ayarlandı\n",
    "torch.manual_seed(1)\n",
    "\n",
    "# Tanh ve sigmoid aktivasyon fonksiyonlarını kendimiz yazdık\n",
    "def tanh(x):\n",
    "    result=(torch.exp(x)-torch.exp(-x))/(torch.exp(x)+torch.exp(-x))\n",
    "    return result\n",
    "\n",
    "def sigmoid(x):\n",
    "    result=1/(1+torch.exp(-x)) \n",
    "    return result\n",
    "\n",
    "# Input X matrisi tensöre çevrildi\n",
    "X = torch.tensor([[1, 2, 3], [4, 5, 6]], dtype=torch.float)\n",
    "\n",
    "# Gizli katman için ağırlıklar ve bias değerleri tanımlandı\n",
    "hidden_weights = torch.randn((3, 50), dtype=torch.float)\n",
    "hidden_bias = torch.randn((1, 50), dtype=torch.float)\n",
    "\n",
    "# Çıkış katmanı için ağırlıklar ve bias değerleri tanımlandı\n",
    "output_weights = torch.randn((50, 1), dtype=torch.float)\n",
    "output_bias = torch.randn((1, 1), dtype=torch.float)\n",
    "\n",
    "# İleri besleme işlemi gerçekleştirildi\n",
    "hidden_layer = tanh(torch.mm(X, hidden_weights) + hidden_bias)\n",
    "output_layer = sigmoid(torch.mm(hidden_layer, output_weights) + output_bias)\n",
    "\n",
    "# Çıkış katmanındaki tek nöronun çıkışı yazdırıldı\n",
    "print(output_layer)\n",
    "\n",
    "end_time = time.time()\n",
    "print(\"Çalışma Süresi:\",(end_time - start_time) )"
   ]
  },
  {
   "cell_type": "code",
   "execution_count": 22,
   "metadata": {},
   "outputs": [
    {
     "name": "stdout",
     "output_type": "stream",
     "text": [
      "tensor([[0.9450],\n",
      "        [0.8613]])\n",
      "Çalışma Süresi: 0.0035142898559570312\n"
     ]
    }
   ],
   "source": [
    "import torch\n",
    "import time\n",
    "\n",
    "start_time = time.time()\n",
    "\n",
    "# PyTorch'ta seed değeri 1 olarak ayarlandı\n",
    "torch.manual_seed(210401003)\n",
    "\n",
    "# Tanh ve sigmoid aktivasyon fonksiyonlarını kendimiz yazdık\n",
    "def tanh(x):\n",
    "    result=(torch.exp(x)-torch.exp(-x))/(torch.exp(x)+torch.exp(-x))\n",
    "    return result\n",
    "\n",
    "def sigmoid(x):\n",
    "    result=1/(1+torch.exp(-x)) \n",
    "    return result\n",
    "\n",
    "# Input X matrisi tensöre çevrildi\n",
    "X = torch.tensor([[1, 2, 3], [4, 5, 6]], dtype=torch.float)\n",
    "\n",
    "# Gizli katman için ağırlıklar ve bias değerleri tanımlandı\n",
    "hidden_weights = torch.randn((3, 50), dtype=torch.float)\n",
    "hidden_bias = torch.randn((1, 50), dtype=torch.float)\n",
    "\n",
    "# Çıkış katmanı için ağırlıklar ve bias değerleri tanımlandı\n",
    "output_weights = torch.randn((50, 1), dtype=torch.float)\n",
    "output_bias = torch.randn((1, 1), dtype=torch.float)\n",
    "\n",
    "# İleri besleme işlemi gerçekleştirildi\n",
    "hidden_layer = tanh(torch.mm(X, hidden_weights) + hidden_bias)\n",
    "output_layer = sigmoid(torch.mm(hidden_layer, output_weights) + output_bias)\n",
    "\n",
    "# Çıkış katmanındaki tek nöronun çıkışı yazdırıldı\n",
    "print(output_layer)\n",
    "\n",
    "end_time = time.time()\n",
    "print(\"Çalışma Süresi:\",(end_time - start_time) )"
   ]
  },
  {
   "attachments": {},
   "cell_type": "markdown",
   "metadata": {},
   "source": [
    "----------------------------------------------------------------------------------------------------------\n",
    "\n",
    "Seed=1 \n",
    "\n",
    "Sonuç:\n",
    "\n",
    "tensor([[0.0498],\n",
    "        [0.0075]])\n",
    "        \n",
    "Çalışma Süresi: 0.0039250850677490234\n",
    "\n",
    "----------------------------------------------------------------------------------------------------------\n",
    "\n",
    "Seed =210401003\n",
    "\n",
    "Sonuç:\n",
    "\n",
    "tensor([[0.9450],\n",
    "        [0.8613]])\n",
    "\n",
    "Çalışma Süresi: 0.00299835205078125\n",
    "\n",
    "----------------------------------------------------------------------------------------------------------"
   ]
  }
 ],
 "metadata": {
  "kernelspec": {
   "display_name": "Python 3",
   "language": "python",
   "name": "python3"
  },
  "language_info": {
   "codemirror_mode": {
    "name": "ipython",
    "version": 3
   },
   "file_extension": ".py",
   "mimetype": "text/x-python",
   "name": "python",
   "nbconvert_exporter": "python",
   "pygments_lexer": "ipython3",
   "version": "3.11.0"
  },
  "orig_nbformat": 4
 },
 "nbformat": 4,
 "nbformat_minor": 2
}
